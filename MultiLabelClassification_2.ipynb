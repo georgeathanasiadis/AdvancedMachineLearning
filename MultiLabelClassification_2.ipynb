{
  "nbformat": 4,
  "nbformat_minor": 0,
  "metadata": {
    "colab": {
      "provenance": []
    },
    "kernelspec": {
      "name": "python3",
      "display_name": "Python 3"
    },
    "language_info": {
      "name": "python"
    }
  },
  "cells": [
    {
      "cell_type": "markdown",
      "source": [
        "Only the second model approach was implemented - the one that considers every document as an instance - each doc is represented based on all its sentences."
      ],
      "metadata": {
        "id": "ibiKrVuPCa1P"
      }
    },
    {
      "cell_type": "markdown",
      "source": [
        "Load the data."
      ],
      "metadata": {
        "id": "-P5FgSvRCtcn"
      }
    },
    {
      "cell_type": "code",
      "execution_count": null,
      "metadata": {
        "colab": {
          "base_uri": "https://localhost:8080/",
          "height": 179
        },
        "id": "vpiZx3rACWjA",
        "outputId": "2251c657-0026-4d1f-a308-3c6d9ed056a7"
      },
      "outputs": [
        {
          "output_type": "display_data",
          "data": {
            "text/plain": [
              "<IPython.core.display.HTML object>"
            ],
            "text/html": [
              "\n",
              "     <input type=\"file\" id=\"files-653e9377-8528-4682-ad49-d6d96f6a5b57\" name=\"files[]\" multiple disabled\n",
              "        style=\"border:none\" />\n",
              "     <output id=\"result-653e9377-8528-4682-ad49-d6d96f6a5b57\">\n",
              "      Upload widget is only available when the cell has been executed in the\n",
              "      current browser session. Please rerun this cell to enable.\n",
              "      </output>\n",
              "      <script>// Copyright 2017 Google LLC\n",
              "//\n",
              "// Licensed under the Apache License, Version 2.0 (the \"License\");\n",
              "// you may not use this file except in compliance with the License.\n",
              "// You may obtain a copy of the License at\n",
              "//\n",
              "//      http://www.apache.org/licenses/LICENSE-2.0\n",
              "//\n",
              "// Unless required by applicable law or agreed to in writing, software\n",
              "// distributed under the License is distributed on an \"AS IS\" BASIS,\n",
              "// WITHOUT WARRANTIES OR CONDITIONS OF ANY KIND, either express or implied.\n",
              "// See the License for the specific language governing permissions and\n",
              "// limitations under the License.\n",
              "\n",
              "/**\n",
              " * @fileoverview Helpers for google.colab Python module.\n",
              " */\n",
              "(function(scope) {\n",
              "function span(text, styleAttributes = {}) {\n",
              "  const element = document.createElement('span');\n",
              "  element.textContent = text;\n",
              "  for (const key of Object.keys(styleAttributes)) {\n",
              "    element.style[key] = styleAttributes[key];\n",
              "  }\n",
              "  return element;\n",
              "}\n",
              "\n",
              "// Max number of bytes which will be uploaded at a time.\n",
              "const MAX_PAYLOAD_SIZE = 100 * 1024;\n",
              "\n",
              "function _uploadFiles(inputId, outputId) {\n",
              "  const steps = uploadFilesStep(inputId, outputId);\n",
              "  const outputElement = document.getElementById(outputId);\n",
              "  // Cache steps on the outputElement to make it available for the next call\n",
              "  // to uploadFilesContinue from Python.\n",
              "  outputElement.steps = steps;\n",
              "\n",
              "  return _uploadFilesContinue(outputId);\n",
              "}\n",
              "\n",
              "// This is roughly an async generator (not supported in the browser yet),\n",
              "// where there are multiple asynchronous steps and the Python side is going\n",
              "// to poll for completion of each step.\n",
              "// This uses a Promise to block the python side on completion of each step,\n",
              "// then passes the result of the previous step as the input to the next step.\n",
              "function _uploadFilesContinue(outputId) {\n",
              "  const outputElement = document.getElementById(outputId);\n",
              "  const steps = outputElement.steps;\n",
              "\n",
              "  const next = steps.next(outputElement.lastPromiseValue);\n",
              "  return Promise.resolve(next.value.promise).then((value) => {\n",
              "    // Cache the last promise value to make it available to the next\n",
              "    // step of the generator.\n",
              "    outputElement.lastPromiseValue = value;\n",
              "    return next.value.response;\n",
              "  });\n",
              "}\n",
              "\n",
              "/**\n",
              " * Generator function which is called between each async step of the upload\n",
              " * process.\n",
              " * @param {string} inputId Element ID of the input file picker element.\n",
              " * @param {string} outputId Element ID of the output display.\n",
              " * @return {!Iterable<!Object>} Iterable of next steps.\n",
              " */\n",
              "function* uploadFilesStep(inputId, outputId) {\n",
              "  const inputElement = document.getElementById(inputId);\n",
              "  inputElement.disabled = false;\n",
              "\n",
              "  const outputElement = document.getElementById(outputId);\n",
              "  outputElement.innerHTML = '';\n",
              "\n",
              "  const pickedPromise = new Promise((resolve) => {\n",
              "    inputElement.addEventListener('change', (e) => {\n",
              "      resolve(e.target.files);\n",
              "    });\n",
              "  });\n",
              "\n",
              "  const cancel = document.createElement('button');\n",
              "  inputElement.parentElement.appendChild(cancel);\n",
              "  cancel.textContent = 'Cancel upload';\n",
              "  const cancelPromise = new Promise((resolve) => {\n",
              "    cancel.onclick = () => {\n",
              "      resolve(null);\n",
              "    };\n",
              "  });\n",
              "\n",
              "  // Wait for the user to pick the files.\n",
              "  const files = yield {\n",
              "    promise: Promise.race([pickedPromise, cancelPromise]),\n",
              "    response: {\n",
              "      action: 'starting',\n",
              "    }\n",
              "  };\n",
              "\n",
              "  cancel.remove();\n",
              "\n",
              "  // Disable the input element since further picks are not allowed.\n",
              "  inputElement.disabled = true;\n",
              "\n",
              "  if (!files) {\n",
              "    return {\n",
              "      response: {\n",
              "        action: 'complete',\n",
              "      }\n",
              "    };\n",
              "  }\n",
              "\n",
              "  for (const file of files) {\n",
              "    const li = document.createElement('li');\n",
              "    li.append(span(file.name, {fontWeight: 'bold'}));\n",
              "    li.append(span(\n",
              "        `(${file.type || 'n/a'}) - ${file.size} bytes, ` +\n",
              "        `last modified: ${\n",
              "            file.lastModifiedDate ? file.lastModifiedDate.toLocaleDateString() :\n",
              "                                    'n/a'} - `));\n",
              "    const percent = span('0% done');\n",
              "    li.appendChild(percent);\n",
              "\n",
              "    outputElement.appendChild(li);\n",
              "\n",
              "    const fileDataPromise = new Promise((resolve) => {\n",
              "      const reader = new FileReader();\n",
              "      reader.onload = (e) => {\n",
              "        resolve(e.target.result);\n",
              "      };\n",
              "      reader.readAsArrayBuffer(file);\n",
              "    });\n",
              "    // Wait for the data to be ready.\n",
              "    let fileData = yield {\n",
              "      promise: fileDataPromise,\n",
              "      response: {\n",
              "        action: 'continue',\n",
              "      }\n",
              "    };\n",
              "\n",
              "    // Use a chunked sending to avoid message size limits. See b/62115660.\n",
              "    let position = 0;\n",
              "    do {\n",
              "      const length = Math.min(fileData.byteLength - position, MAX_PAYLOAD_SIZE);\n",
              "      const chunk = new Uint8Array(fileData, position, length);\n",
              "      position += length;\n",
              "\n",
              "      const base64 = btoa(String.fromCharCode.apply(null, chunk));\n",
              "      yield {\n",
              "        response: {\n",
              "          action: 'append',\n",
              "          file: file.name,\n",
              "          data: base64,\n",
              "        },\n",
              "      };\n",
              "\n",
              "      let percentDone = fileData.byteLength === 0 ?\n",
              "          100 :\n",
              "          Math.round((position / fileData.byteLength) * 100);\n",
              "      percent.textContent = `${percentDone}% done`;\n",
              "\n",
              "    } while (position < fileData.byteLength);\n",
              "  }\n",
              "\n",
              "  // All done.\n",
              "  yield {\n",
              "    response: {\n",
              "      action: 'complete',\n",
              "    }\n",
              "  };\n",
              "}\n",
              "\n",
              "scope.google = scope.google || {};\n",
              "scope.google.colab = scope.google.colab || {};\n",
              "scope.google.colab._files = {\n",
              "  _uploadFiles,\n",
              "  _uploadFilesContinue,\n",
              "};\n",
              "})(self);\n",
              "</script> "
            ]
          },
          "metadata": {}
        },
        {
          "output_type": "stream",
          "name": "stdout",
          "text": [
            "Saving test-data.dat to test-data (2).dat\n",
            "Saving test-label.dat to test-label (2).dat\n",
            "Saving train-data.dat to train-data (2).dat\n",
            "Saving train-label.dat to train-label (2).dat\n"
          ]
        }
      ],
      "source": [
        "import warnings\n",
        "from sklearn.ensemble import RandomForestClassifier\n",
        "from sklearn.feature_extraction.text import CountVectorizer, TfidfVectorizer\n",
        "import numpy as np\n",
        "import pandas as pd\n",
        "from sklearn.linear_model import LogisticRegression\n",
        "from sklearn.metrics import classification_report\n",
        "from sklearn.model_selection import GridSearchCV\n",
        "\n",
        "from sklearn.datasets import make_multilabel_classification\n",
        "from sklearn.preprocessing import MaxAbsScaler\n",
        "from sklearn.svm import SVC\n",
        "\n",
        "#load data\n",
        "from google.colab import files\n",
        "uploaded = files.upload()\n",
        "import io\n",
        "warnings.filterwarnings(\"ignore\")\n",
        "X_test = pd.read_csv(io.BytesIO(uploaded['test-data.dat']))\n",
        "X_train =pd.read_csv(io.BytesIO(uploaded['train-data.dat']))\n",
        "Y_test = pd.read_csv(io.BytesIO(uploaded['test-label.dat']))\n",
        "Y_train = pd.read_csv(io.BytesIO(uploaded['train-label.dat']))\n",
        "\n",
        "Y_test_new = Y_test.values\n",
        "Y_train_new= Y_train.values\n"
      ]
    },
    {
      "cell_type": "markdown",
      "source": [
        "The next few steps are similar to the preprocessing in the previous notebook."
      ],
      "metadata": {
        "id": "aTYPHGHOC4S5"
      }
    },
    {
      "cell_type": "code",
      "source": [
        "\n",
        "array_list_test = []\n",
        "for index, row in Y_test.iterrows():\n",
        "    split_values = (row[0])  # Split the numbers into a list of strings\n",
        "    filtered_list = [item for item in split_values if item.strip() in ('0', '1')]\n",
        "    int_array = np.array([int(num) for num in filtered_list])\n",
        "    array_list_test.append(int_array)\n",
        "merged_array_test = np.array(array_list_test)\n",
        "\n",
        "array_list_train = []\n",
        "for index, row in Y_train.iterrows():\n",
        "    split_values = (row[0])  # Split the numbers into a list of strings\n",
        "    filtered_list = [item for item in split_values if item.strip() in ('0', '1')]\n",
        "    int_array = np.array([int(num) for num in filtered_list])\n",
        "    array_list_train.append(int_array)\n",
        "merged_array_train = np.array(array_list_train)\n",
        "\n",
        "Y_test_new = merged_array_test\n",
        "Y_train_new= merged_array_train"
      ],
      "metadata": {
        "id": "JckXy5pxC-UD"
      },
      "execution_count": null,
      "outputs": []
    },
    {
      "cell_type": "code",
      "source": [
        "\n",
        "#remove the <> tags, they are not needed\n",
        "X_train = X_train.replace(r'<.*?>', '', regex=True)\n",
        "X_test = X_test.replace(r'<.*?>', '', regex=True)\n"
      ],
      "metadata": {
        "id": "K6IpscRFC_oL"
      },
      "execution_count": null,
      "outputs": []
    },
    {
      "cell_type": "markdown",
      "source": [
        "Focus only on the most popular label:"
      ],
      "metadata": {
        "id": "Am8mXNfeDDHK"
      }
    },
    {
      "cell_type": "code",
      "source": [
        "\n",
        "popular_label = np.argmax(np.sum(Y_train_new, axis=0))\n",
        "\n",
        "#keep only the column with the highest sum\n",
        "y_train = Y_train_new[:, popular_label]\n",
        "y_test = Y_test_new[:, popular_label]"
      ],
      "metadata": {
        "id": "FXhNVmx6DF1d"
      },
      "execution_count": null,
      "outputs": []
    },
    {
      "cell_type": "markdown",
      "source": [
        "Vectorize data. The min-df parameter here essentially means \"ignore terms that appear in less than 10% of the docs\" (you can play with this parameter to include more/fewer words)\n"
      ],
      "metadata": {
        "id": "6_ihq9I-D7cg"
      }
    },
    {
      "cell_type": "code",
      "source": [
        "\n",
        "vectorizer = TfidfVectorizer(min_df=0.1)\n",
        "X_train_array = X_train.values\n",
        "X_test_array = X_test.values\n",
        "\n",
        "#vectorizer = CountVectorizer()\n",
        "X_train = vectorizer.fit_transform(X_train_array.ravel())\n",
        "X_test = vectorizer.transform(X_test_array.ravel())\n",
        "\n",
        "print(X_train.shape)\n",
        "print(X_test.shape) #test shape to see how many words the min_df parameter cut off"
      ],
      "metadata": {
        "colab": {
          "base_uri": "https://localhost:8080/"
        },
        "id": "tk5fjzzxD-vz",
        "outputId": "cfce5fce-4f29-4c84-abae-0d33399e3848"
      },
      "execution_count": null,
      "outputs": [
        {
          "output_type": "stream",
          "name": "stdout",
          "text": [
            "(8250, 146)\n",
            "(3982, 146)\n"
          ]
        }
      ]
    },
    {
      "cell_type": "markdown",
      "source": [
        "Scale data."
      ],
      "metadata": {
        "id": "7izk1j1pEVNL"
      }
    },
    {
      "cell_type": "code",
      "source": [
        "from sklearn.preprocessing import MaxAbsScaler\n",
        "\n",
        "scaler = MaxAbsScaler() #or StandardScaler()\n",
        "scaler.fit(X_train)\n",
        "X_train = scaler.transform(X_train)\n",
        "X_test = scaler.transform(X_test)"
      ],
      "metadata": {
        "id": "fCZl1HHTEZQz"
      },
      "execution_count": null,
      "outputs": []
    },
    {
      "cell_type": "markdown",
      "source": [
        "Run the classifier models."
      ],
      "metadata": {
        "id": "07DyoeydEVJz"
      }
    },
    {
      "cell_type": "code",
      "source": [
        "from sklearn.naive_bayes import GaussianNB\n",
        "\n",
        "classifiers = [\n",
        "\n",
        "    {\n",
        "        'name': 'Random Forest',\n",
        "        'classifier': RandomForestClassifier(random_state=0),\n",
        "        'parameters': {'n_estimators': [100, 200, 400]}\n",
        "    },\n",
        "    {\n",
        "        'name': 'Logistic Regression',\n",
        "        'classifier': LogisticRegression(random_state=0),\n",
        "        'parameters': {'C': [0.01, 0.1, 1.0], 'solver': ['sag', 'saga', 'lbfgs']}\n",
        "    }\n",
        "]\n",
        "\n",
        "for clf_info in classifiers:\n",
        "    name = clf_info['name']\n",
        "    clf = clf_info['classifier']\n",
        "    parameters = clf_info['parameters']\n",
        "\n",
        "    print('Classifier:', name)\n",
        "\n",
        "    grid = GridSearchCV(clf, param_grid=parameters, cv=5, scoring='f1')\n",
        "    model_grid = grid.fit(X_train, y_train)\n",
        "    y_pred = model_grid.predict(X_test)\n",
        "\n",
        "    print('Classification Report:')\n",
        "    print(classification_report(y_test, y_pred))\n"
      ],
      "metadata": {
        "colab": {
          "base_uri": "https://localhost:8080/"
        },
        "id": "o-WaQcFCEfL8",
        "outputId": "6d0b858b-960b-4562-b59a-d16c3507698b"
      },
      "execution_count": null,
      "outputs": [
        {
          "output_type": "stream",
          "name": "stdout",
          "text": [
            "Classifier: Random Forest\n",
            "Classification Report:\n",
            "              precision    recall  f1-score   support\n",
            "\n",
            "           0       0.65      0.88      0.75      2425\n",
            "           1       0.60      0.27      0.37      1557\n",
            "\n",
            "    accuracy                           0.64      3982\n",
            "   macro avg       0.63      0.58      0.56      3982\n",
            "weighted avg       0.63      0.64      0.60      3982\n",
            "\n",
            "Classifier: Logistic Regression\n",
            "Classification Report:\n",
            "              precision    recall  f1-score   support\n",
            "\n",
            "           0       0.66      0.85      0.74      2425\n",
            "           1       0.58      0.33      0.42      1557\n",
            "\n",
            "    accuracy                           0.64      3982\n",
            "   macro avg       0.62      0.59      0.58      3982\n",
            "weighted avg       0.63      0.64      0.62      3982\n",
            "\n"
          ]
        }
      ]
    },
    {
      "cell_type": "markdown",
      "source": [
        "The two models have very similar performance - interestingly it wasn't significantly impacted for different min_df parameter values. Their performance is overall satisfactory - I would estimate that the other model would not significantly outperform this one, despite it inevitably being sub-optimal in terms of time complexity (it has to run multiple iterations of a clustering algorithm, for example)."
      ],
      "metadata": {
        "id": "Ljhf33JBPcKr"
      }
    },
    {
      "cell_type": "code",
      "source": [],
      "metadata": {
        "id": "BczOpyuWPdoR"
      },
      "execution_count": null,
      "outputs": []
    }
  ]
}